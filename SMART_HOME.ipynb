{
  "cells": [
    {
      "cell_type": "markdown",
      "metadata": {
        "id": "VV45Eiw-mFE_"
      },
      "source": [
        "1. Set Up Environment\n"
      ]
    },
    {
      "cell_type": "code",
      "execution_count": null,
      "metadata": {
        "id": "rrXJ-DjAmCNQ"
      },
      "outputs": [],
      "source": [
        "# Import required libraries\n",
        "import pandas as pd\n",
        "import numpy as np\n",
        "import matplotlib.pyplot as plt\n",
        "import seaborn as sns\n"
      ]
    },
    {
      "cell_type": "markdown",
      "metadata": {
        "id": "e7T64nlnnKR2"
      },
      "source": [
        "2. Upload and Load Dataset\n"
      ]
    },
    {
      "cell_type": "code",
      "execution_count": null,
      "metadata": {
        "colab": {
          "base_uri": "https://localhost:8080/"
        },
        "id": "0mvxQDVUnEs0",
        "outputId": "b1206d1a-4ece-4cfc-f46c-1981ecc4df07"
      },
      "outputs": [
        {
          "output_type": "stream",
          "name": "stderr",
          "text": [
            "<ipython-input-4-584b9c5290d8>:4: DtypeWarning: Columns (1,2) have mixed types. Specify dtype option on import or set low_memory=False.\n",
            "  data = pd.read_csv('smart_sensors.csv')  # Replace with the name of your uploaded file\n"
          ]
        }
      ],
      "source": [
        "from google.colab import files\n",
        "\n",
        "# Load the dataset into a pandas DataFrame\n",
        "data = pd.read_csv('smart_sensors.csv')  # Replace with the name of your uploaded file\n",
        "\n"
      ]
    },
    {
      "cell_type": "markdown",
      "metadata": {
        "id": "txvLslTVnVnr"
      },
      "source": [
        "3. Inspect the Data"
      ]
    },
    {
      "cell_type": "code",
      "execution_count": null,
      "metadata": {
        "colab": {
          "base_uri": "https://localhost:8080/"
        },
        "id": "19KW-OO_nOuP",
        "outputId": "3a6adcfe-ea08-4ea9-d1c2-7a53c0fd76a5"
      },
      "outputs": [
        {
          "output_type": "stream",
          "name": "stdout",
          "text": [
            "<class 'pandas.core.frame.DataFrame'>\n",
            "RangeIndex: 606210 entries, 0 to 606209\n",
            "Data columns (total 10 columns):\n",
            " #   Column       Non-Null Count   Dtype  \n",
            "---  ------       --------------   -----  \n",
            " 0   id           606210 non-null  int64  \n",
            " 1   temp         606210 non-null  object \n",
            " 2   humid        606210 non-null  object \n",
            " 3   bright       606210 non-null  float64\n",
            " 4   dist         606210 non-null  float64\n",
            " 5   soundthres   606210 non-null  int64  \n",
            " 6   soundlevel   606210 non-null  float64\n",
            " 7   pir          606210 non-null  int64  \n",
            " 8   result_time  606210 non-null  object \n",
            " 9   nodeid       606210 non-null  int64  \n",
            "dtypes: float64(3), int64(4), object(3)\n",
            "memory usage: 46.3+ MB\n",
            "None\n",
            "     id  temp humid   bright     dist  soundthres  soundlevel  pir  \\\n",
            "0  2603  31.2    31  3.14005  176.868           0    0.317742    1   \n",
            "1  2604  31.2    30  3.14005  203.879           0    0.188972    0   \n",
            "2  2605  31.2    30  3.14005  177.674           0    1.585270    0   \n",
            "3  2606  31.2    31  3.14005  202.970           0    0.507504    0   \n",
            "4  2607  31.2    31  3.14005   -1.000           0    0.045204    0   \n",
            "\n",
            "                  result_time  nodeid  \n",
            "0  2020-09-20 00:00:01.901248      13  \n",
            "1  2020-09-20 00:00:11.931381      13  \n",
            "2   2020-09-20 00:00:21.86012      13  \n",
            "3  2020-09-20 00:00:31.896596      13  \n",
            "4  2020-09-20 00:00:41.933249      13  \n",
            "id             0\n",
            "temp           0\n",
            "humid          0\n",
            "bright         0\n",
            "dist           0\n",
            "soundthres     0\n",
            "soundlevel     0\n",
            "pir            0\n",
            "result_time    0\n",
            "nodeid         0\n",
            "dtype: int64\n"
          ]
        }
      ],
      "source": [
        "# View basic information\n",
        "print(data.info())\n",
        "\n",
        "# Display first few rows\n",
        "print(data.head())\n",
        "\n",
        "# Check for missing values\n",
        "print(data.isnull().sum())\n"
      ]
    },
    {
      "cell_type": "markdown",
      "metadata": {
        "id": "te3nmhcmnrIP"
      },
      "source": [
        "5. Remove Duplicates\n"
      ]
    },
    {
      "cell_type": "code",
      "execution_count": null,
      "metadata": {
        "id": "4T877_38nlSD"
      },
      "outputs": [],
      "source": [
        "# Remove duplicate rows\n",
        "data = data.drop_duplicates()\n"
      ]
    },
    {
      "cell_type": "markdown",
      "metadata": {
        "id": "7MfkPZFvp7Zo"
      },
      "source": [
        "Handle Missing Values:\n"
      ]
    },
    {
      "cell_type": "code",
      "execution_count": null,
      "metadata": {
        "id": "GENzxKr3pz17"
      },
      "outputs": [],
      "source": [
        "# Fill missing numerical values with the mean\n",
        "numerical_cols = data.select_dtypes(include=['float64', 'int64']).columns\n",
        "data[numerical_cols] = data[numerical_cols].fillna(data[numerical_cols].mean())\n",
        "\n",
        "# Fill missing categorical values with the mode\n",
        "categorical_cols = data.select_dtypes(include=['object']).columns\n",
        "data[categorical_cols] = data[categorical_cols].fillna(data[categorical_cols].mode().iloc[0])\n",
        "\n"
      ]
    },
    {
      "cell_type": "markdown",
      "metadata": {
        "id": "DeGmtllFqAjb"
      },
      "source": [
        "Convert result_time to datetime:"
      ]
    },
    {
      "cell_type": "code",
      "execution_count": null,
      "metadata": {
        "id": "fmlaX9SLp9Go"
      },
      "outputs": [],
      "source": [
        "data['result_time'] = pd.to_datetime(data['result_time'], errors='coerce')\n"
      ]
    },
    {
      "cell_type": "markdown",
      "source": [
        "7. Normalize/Scale Numerical Data"
      ],
      "metadata": {
        "id": "bCvbBCzivqmX"
      }
    },
    {
      "cell_type": "code",
      "source": [
        "from sklearn.preprocessing import MinMaxScaler\n",
        "\n",
        "# Normalize numerical columns\n",
        "scaler = MinMaxScaler()\n",
        "data[numerical_cols] = scaler.fit_transform(data[numerical_cols])\n"
      ],
      "metadata": {
        "id": "FhdGak5xvml4"
      },
      "execution_count": null,
      "outputs": []
    },
    {
      "cell_type": "markdown",
      "metadata": {
        "id": "t1txUWUvrn9b"
      },
      "source": [
        "Verify Changes:"
      ]
    },
    {
      "cell_type": "code",
      "execution_count": null,
      "metadata": {
        "colab": {
          "base_uri": "https://localhost:8080/"
        },
        "id": "2T0GHw0wqFxw",
        "outputId": "c12e8a45-66b2-44ed-b9f5-555346450a44"
      },
      "outputs": [
        {
          "output_type": "stream",
          "name": "stdout",
          "text": [
            "id             0\n",
            "temp           0\n",
            "humid          0\n",
            "bright         0\n",
            "dist           0\n",
            "soundthres     0\n",
            "soundlevel     0\n",
            "pir            0\n",
            "result_time    0\n",
            "nodeid         0\n",
            "dtype: int64\n",
            "id                    float64\n",
            "temp                   object\n",
            "humid                  object\n",
            "bright                float64\n",
            "dist                  float64\n",
            "soundthres            float64\n",
            "soundlevel            float64\n",
            "pir                   float64\n",
            "result_time    datetime64[ns]\n",
            "nodeid                float64\n",
            "dtype: object\n"
          ]
        }
      ],
      "source": [
        "print(data.isnull().sum())  # Should output 0 for all columns\n",
        "print(data.dtypes)  # Check types, especially for `result_time`\n"
      ]
    },
    {
      "cell_type": "code",
      "source": [
        "print(data['temp'].unique())  # Inspect unique values in the `temp` column\n",
        "print(data['humid'].unique())  # Inspect unique values in the `humid` column\n"
      ],
      "metadata": {
        "colab": {
          "base_uri": "https://localhost:8080/"
        },
        "id": "f_yHFRQFwvsC",
        "outputId": "bde51a38-1e14-4c97-97c4-edd72ac349ad"
      },
      "execution_count": null,
      "outputs": [
        {
          "output_type": "stream",
          "name": "stdout",
          "text": [
            "[31.2 31.3 31.1 31.4 31.5 31.6 31.0 30.9 30.8 30.7 30.6 30.5 30.4 30.3\n",
            " 30.2 31.7 31.9 31.8 30.1 30.0 29.9 29.8 29.7 29.6 10.0 29.5 29.4 29.3\n",
            " 29.2 29.1 29.0 32.0 32.1 32.2 32.3 28.9 28.8 28.7 28.6 28.5 28.4 28.3\n",
            " 28.2 28.1 28.0 27.9 27.8 27.7 27.6 27.5 27.4 27.2 27.3 27.1 27.0 26.9\n",
            " 26.8 26.7 26.6 26.5 26.4 26.3 26.2 26.1 26.0 25.9 25.8 25.7 25.6 25.4\n",
            " 25.5 25.2 25.3 25.0 24.9 25.1 24.7 24.8 24.4 24.6 24.5 24.3 24.2 '24.7'\n",
            " '24.8' '25' '24.6' '24.9' '24.4' '24.5' '24.3' '25.1' '25.2' '25.3'\n",
            " '25.5' '25.4' '25.6' '24.2' '25.7' '25.9' '26' '25.8' '26.1' '24' '23.9'\n",
            " '24.1' '23.6' '23' '22.9' '22.8' '23.1' '23.2' '23.3' '23.4' '23.5'\n",
            " '22.7' '22.6' '22.5' '22.4' '22.3' '22.2' '23.8' '\\\\0' '10' '19.6' '19.8'\n",
            " '19.9' '20.1' '20.4' '20.2' '20.3' '20.5' '20.7' '20.8' '20.9' '21.1'\n",
            " '21.2' '21.3' '21.4' '21.5' '21.6' '21.7' '21.8' '21.9' '22' '22.1'\n",
            " '23.7' '26.2' '26.3' '26.4' '26.5' '26.6' '26.7' '26.9' '26.8' '27'\n",
            " '27.1' '27.3' '27.2' '27.4' '27.5' '27.6' '27.7' '27.8' '27.9' '28'\n",
            " '28.1' '28.2' '28.3' '28.4' '28.5' '28.6' '28.8' '28.7' '28.9' '29'\n",
            " '29.1' '29.2' '29.3' 24.1 24.0 23.9 23.8 23.7 23.6 23.5 23.3 23.4 23.0\n",
            " 23.1 22.9 22.8 22.7 22.6 22.4 22.3 22.2 22.1 22.0 21.9 21.8 21.7 21.6\n",
            " 21.5 21.3 21.4 21.2 21.1 21.0 20.9 20.8 20.7 20.6 19.6 20.0 20.5 20.4\n",
            " 20.2 20.3 20.1 19.8 19.9 19.7 19.5 19.2 19.4 19.3 18.9 18.6 22.5 23.2\n",
            " 18.5 18.8 19.0 18.7 18.4 18.3 18.2 17.9 18.1 18.0 19.1]\n",
            "[31 30 32 33 34 29 28 27 35 36 37 38 39 40 41 42 43 44 45 46 47 48 49 50\n",
            " 51 52 53 54 55 56 57 58 59 60 61 62 63 10 64 65 26 25 24 23 '48' '50'\n",
            " '51' '49' '52' '53' '54' '55' '56' '47' '46' '45' '44' '57' '59' '61'\n",
            " '60' '58' '62' '65' '64' '63' '66' '67' '\\\\0' '10' '76' '72' '71' '70'\n",
            " '69' '68' '43' '42' '41' '40' '39' '38' '37' '36' '35' 68 79 76 69 74 83\n",
            " 75 73 72 71 70 67 66 22 21]\n"
          ]
        }
      ]
    },
    {
      "cell_type": "code",
      "source": [
        "data['temp'] = pd.to_numeric(data['temp'], errors='coerce')\n",
        "data['humid'] = pd.to_numeric(data['humid'], errors='coerce')\n"
      ],
      "metadata": {
        "id": "qPLYKotew1Ya"
      },
      "execution_count": null,
      "outputs": []
    },
    {
      "cell_type": "code",
      "source": [
        "data['temp'] = data['temp'].fillna(data['temp'].mean())\n",
        "data['humid'] = data['humid'].fillna(data['humid'].mean())\n"
      ],
      "metadata": {
        "id": "u8ZZjJhkxJa7"
      },
      "execution_count": null,
      "outputs": []
    },
    {
      "cell_type": "code",
      "source": [
        "print(data.dtypes)\n"
      ],
      "metadata": {
        "colab": {
          "base_uri": "https://localhost:8080/"
        },
        "id": "aYoA6KwUxUHy",
        "outputId": "2e31f44e-fc44-48e9-895b-62cd23678f0d"
      },
      "execution_count": null,
      "outputs": [
        {
          "output_type": "stream",
          "name": "stdout",
          "text": [
            "id                    float64\n",
            "temp                  float64\n",
            "humid                 float64\n",
            "bright                float64\n",
            "dist                  float64\n",
            "soundthres            float64\n",
            "soundlevel            float64\n",
            "pir                   float64\n",
            "result_time    datetime64[ns]\n",
            "nodeid                float64\n",
            "dtype: object\n"
          ]
        }
      ]
    },
    {
      "cell_type": "code",
      "source": [
        "print(data.describe())  # Check statistical summary for numeric columns\n",
        "print(data['result_time'].head())  # Preview the datetime column\n"
      ],
      "metadata": {
        "colab": {
          "base_uri": "https://localhost:8080/"
        },
        "id": "O1CHKvL5xfwR",
        "outputId": "84d9028f-93b8-4eff-b702-1be41965a77c"
      },
      "execution_count": null,
      "outputs": [
        {
          "output_type": "stream",
          "name": "stdout",
          "text": [
            "                  id           temp          humid         bright  \\\n",
            "count  606210.000000  606210.000000  606210.000000  606210.000000   \n",
            "mean        0.500000      28.105261      47.748054       0.194798   \n",
            "min         0.000000      10.000000      10.000000       0.000000   \n",
            "25%         0.250000      26.600000      43.000000       0.056381   \n",
            "50%         0.500000      28.900000      49.000000       0.277346   \n",
            "75%         0.750000      29.600000      53.000000       0.303742   \n",
            "max         1.000000      32.300000      83.000000       1.000000   \n",
            "std         0.288676       2.226693       6.983978       0.121208   \n",
            "\n",
            "                dist     soundthres     soundlevel            pir  \\\n",
            "count  606210.000000  606210.000000  606210.000000  606210.000000   \n",
            "mean        0.297268       0.342584       0.079965       0.083788   \n",
            "min         0.000000       0.000000       0.000000       0.000000   \n",
            "25%         0.000000       0.000000       0.019000       0.000000   \n",
            "50%         0.251764       0.000000       0.085019       0.000000   \n",
            "75%         0.586405       1.000000       0.124271       0.000000   \n",
            "max         1.000000       1.000000       1.000000       1.000000   \n",
            "std         0.275490       0.474574       0.060306       0.277070   \n",
            "\n",
            "                         result_time    nodeid  \n",
            "count                         606210  606210.0  \n",
            "mean   2020-11-29 05:45:48.573593856       0.0  \n",
            "min       2020-09-20 00:00:01.901248       0.0  \n",
            "25%    2020-10-07 16:47:48.265845504       0.0  \n",
            "50%    2020-10-26 15:43:39.372043520       0.0  \n",
            "75%    2021-03-13 21:15:21.778246400       0.0  \n",
            "max       2021-03-31 23:59:53.239180       0.0  \n",
            "std                              NaN       0.0  \n",
            "0   2020-09-20 00:00:01.901248\n",
            "1   2020-09-20 00:00:11.931381\n",
            "2   2020-09-20 00:00:21.860120\n",
            "3   2020-09-20 00:00:31.896596\n",
            "4   2020-09-20 00:00:41.933249\n",
            "Name: result_time, dtype: datetime64[ns]\n"
          ]
        }
      ]
    },
    {
      "cell_type": "code",
      "execution_count": null,
      "metadata": {
        "id": "M5GIEaO7rjx_"
      },
      "outputs": [],
      "source": [
        "data.to_csv('cleaned_data.csv', index=False)\n",
        "\n"
      ]
    },
    {
      "cell_type": "code",
      "source": [
        "# Download the file\n",
        "files.download('cleaned_data.csv')"
      ],
      "metadata": {
        "colab": {
          "base_uri": "https://localhost:8080/",
          "height": 17
        },
        "id": "OiII_aBTx3Q1",
        "outputId": "2a6054e2-f49f-4e93-8ffa-c9d428603e23"
      },
      "execution_count": null,
      "outputs": [
        {
          "output_type": "display_data",
          "data": {
            "text/plain": [
              "<IPython.core.display.Javascript object>"
            ],
            "application/javascript": [
              "\n",
              "    async function download(id, filename, size) {\n",
              "      if (!google.colab.kernel.accessAllowed) {\n",
              "        return;\n",
              "      }\n",
              "      const div = document.createElement('div');\n",
              "      const label = document.createElement('label');\n",
              "      label.textContent = `Downloading \"${filename}\": `;\n",
              "      div.appendChild(label);\n",
              "      const progress = document.createElement('progress');\n",
              "      progress.max = size;\n",
              "      div.appendChild(progress);\n",
              "      document.body.appendChild(div);\n",
              "\n",
              "      const buffers = [];\n",
              "      let downloaded = 0;\n",
              "\n",
              "      const channel = await google.colab.kernel.comms.open(id);\n",
              "      // Send a message to notify the kernel that we're ready.\n",
              "      channel.send({})\n",
              "\n",
              "      for await (const message of channel.messages) {\n",
              "        // Send a message to notify the kernel that we're ready.\n",
              "        channel.send({})\n",
              "        if (message.buffers) {\n",
              "          for (const buffer of message.buffers) {\n",
              "            buffers.push(buffer);\n",
              "            downloaded += buffer.byteLength;\n",
              "            progress.value = downloaded;\n",
              "          }\n",
              "        }\n",
              "      }\n",
              "      const blob = new Blob(buffers, {type: 'application/binary'});\n",
              "      const a = document.createElement('a');\n",
              "      a.href = window.URL.createObjectURL(blob);\n",
              "      a.download = filename;\n",
              "      div.appendChild(a);\n",
              "      a.click();\n",
              "      div.remove();\n",
              "    }\n",
              "  "
            ]
          },
          "metadata": {}
        },
        {
          "output_type": "display_data",
          "data": {
            "text/plain": [
              "<IPython.core.display.Javascript object>"
            ],
            "application/javascript": [
              "download(\"download_562928ce-b6ec-4085-abc8-19fdeb46db7d\", \"cleaned_data.csv\", 69800933)"
            ]
          },
          "metadata": {}
        }
      ]
    },
    {
      "cell_type": "code",
      "source": [
        "!pip install firebase-admin pandas matplotlib seaborn\n"
      ],
      "metadata": {
        "colab": {
          "base_uri": "https://localhost:8080/"
        },
        "id": "t3cRUI-38LRn",
        "outputId": "2e947bc9-176b-4a87-f788-14ac3ab0a3c9"
      },
      "execution_count": null,
      "outputs": [
        {
          "output_type": "stream",
          "name": "stdout",
          "text": [
            "Requirement already satisfied: firebase-admin in /usr/local/lib/python3.10/dist-packages (6.6.0)\n",
            "Requirement already satisfied: pandas in /usr/local/lib/python3.10/dist-packages (2.2.2)\n",
            "Requirement already satisfied: matplotlib in /usr/local/lib/python3.10/dist-packages (3.8.0)\n",
            "Requirement already satisfied: seaborn in /usr/local/lib/python3.10/dist-packages (0.13.2)\n",
            "Requirement already satisfied: cachecontrol>=0.12.14 in /usr/local/lib/python3.10/dist-packages (from firebase-admin) (0.14.1)\n",
            "Requirement already satisfied: google-api-python-client>=1.7.8 in /usr/local/lib/python3.10/dist-packages (from firebase-admin) (2.155.0)\n",
            "Requirement already satisfied: google-cloud-storage>=1.37.1 in /usr/local/lib/python3.10/dist-packages (from firebase-admin) (2.19.0)\n",
            "Requirement already satisfied: pyjwt>=2.5.0 in /usr/local/lib/python3.10/dist-packages (from pyjwt[crypto]>=2.5.0->firebase-admin) (2.10.1)\n",
            "Requirement already satisfied: google-api-core<3.0.0dev,>=1.22.1 in /usr/local/lib/python3.10/dist-packages (from google-api-core[grpc]<3.0.0dev,>=1.22.1; platform_python_implementation != \"PyPy\"->firebase-admin) (2.19.2)\n",
            "Requirement already satisfied: google-cloud-firestore>=2.19.0 in /usr/local/lib/python3.10/dist-packages (from firebase-admin) (2.19.0)\n",
            "Requirement already satisfied: numpy>=1.22.4 in /usr/local/lib/python3.10/dist-packages (from pandas) (1.26.4)\n",
            "Requirement already satisfied: python-dateutil>=2.8.2 in /usr/local/lib/python3.10/dist-packages (from pandas) (2.8.2)\n",
            "Requirement already satisfied: pytz>=2020.1 in /usr/local/lib/python3.10/dist-packages (from pandas) (2024.2)\n",
            "Requirement already satisfied: tzdata>=2022.7 in /usr/local/lib/python3.10/dist-packages (from pandas) (2024.2)\n",
            "Requirement already satisfied: contourpy>=1.0.1 in /usr/local/lib/python3.10/dist-packages (from matplotlib) (1.3.1)\n",
            "Requirement already satisfied: cycler>=0.10 in /usr/local/lib/python3.10/dist-packages (from matplotlib) (0.12.1)\n",
            "Requirement already satisfied: fonttools>=4.22.0 in /usr/local/lib/python3.10/dist-packages (from matplotlib) (4.55.3)\n",
            "Requirement already satisfied: kiwisolver>=1.0.1 in /usr/local/lib/python3.10/dist-packages (from matplotlib) (1.4.7)\n",
            "Requirement already satisfied: packaging>=20.0 in /usr/local/lib/python3.10/dist-packages (from matplotlib) (24.2)\n",
            "Requirement already satisfied: pillow>=6.2.0 in /usr/local/lib/python3.10/dist-packages (from matplotlib) (11.0.0)\n",
            "Requirement already satisfied: pyparsing>=2.3.1 in /usr/local/lib/python3.10/dist-packages (from matplotlib) (3.2.0)\n",
            "Requirement already satisfied: requests>=2.16.0 in /usr/local/lib/python3.10/dist-packages (from cachecontrol>=0.12.14->firebase-admin) (2.32.3)\n",
            "Requirement already satisfied: msgpack<2.0.0,>=0.5.2 in /usr/local/lib/python3.10/dist-packages (from cachecontrol>=0.12.14->firebase-admin) (1.1.0)\n",
            "Requirement already satisfied: googleapis-common-protos<2.0.dev0,>=1.56.2 in /usr/local/lib/python3.10/dist-packages (from google-api-core<3.0.0dev,>=1.22.1->google-api-core[grpc]<3.0.0dev,>=1.22.1; platform_python_implementation != \"PyPy\"->firebase-admin) (1.66.0)\n",
            "Requirement already satisfied: protobuf!=3.20.0,!=3.20.1,!=4.21.0,!=4.21.1,!=4.21.2,!=4.21.3,!=4.21.4,!=4.21.5,<6.0.0.dev0,>=3.19.5 in /usr/local/lib/python3.10/dist-packages (from google-api-core<3.0.0dev,>=1.22.1->google-api-core[grpc]<3.0.0dev,>=1.22.1; platform_python_implementation != \"PyPy\"->firebase-admin) (4.25.5)\n",
            "Requirement already satisfied: proto-plus<2.0.0dev,>=1.22.3 in /usr/local/lib/python3.10/dist-packages (from google-api-core<3.0.0dev,>=1.22.1->google-api-core[grpc]<3.0.0dev,>=1.22.1; platform_python_implementation != \"PyPy\"->firebase-admin) (1.25.0)\n",
            "Requirement already satisfied: google-auth<3.0.dev0,>=2.14.1 in /usr/local/lib/python3.10/dist-packages (from google-api-core<3.0.0dev,>=1.22.1->google-api-core[grpc]<3.0.0dev,>=1.22.1; platform_python_implementation != \"PyPy\"->firebase-admin) (2.27.0)\n",
            "Requirement already satisfied: grpcio<2.0dev,>=1.33.2 in /usr/local/lib/python3.10/dist-packages (from google-api-core[grpc]<3.0.0dev,>=1.22.1; platform_python_implementation != \"PyPy\"->firebase-admin) (1.68.1)\n",
            "Requirement already satisfied: grpcio-status<2.0.dev0,>=1.33.2 in /usr/local/lib/python3.10/dist-packages (from google-api-core[grpc]<3.0.0dev,>=1.22.1; platform_python_implementation != \"PyPy\"->firebase-admin) (1.62.3)\n",
            "Requirement already satisfied: httplib2<1.dev0,>=0.19.0 in /usr/local/lib/python3.10/dist-packages (from google-api-python-client>=1.7.8->firebase-admin) (0.22.0)\n",
            "Requirement already satisfied: google-auth-httplib2<1.0.0,>=0.2.0 in /usr/local/lib/python3.10/dist-packages (from google-api-python-client>=1.7.8->firebase-admin) (0.2.0)\n",
            "Requirement already satisfied: uritemplate<5,>=3.0.1 in /usr/local/lib/python3.10/dist-packages (from google-api-python-client>=1.7.8->firebase-admin) (4.1.1)\n",
            "Requirement already satisfied: google-cloud-core<3.0.0dev,>=1.4.1 in /usr/local/lib/python3.10/dist-packages (from google-cloud-firestore>=2.19.0->firebase-admin) (2.4.1)\n",
            "Requirement already satisfied: google-resumable-media>=2.7.2 in /usr/local/lib/python3.10/dist-packages (from google-cloud-storage>=1.37.1->firebase-admin) (2.7.2)\n",
            "Requirement already satisfied: google-crc32c<2.0dev,>=1.0 in /usr/local/lib/python3.10/dist-packages (from google-cloud-storage>=1.37.1->firebase-admin) (1.6.0)\n",
            "Requirement already satisfied: cryptography>=3.4.0 in /usr/local/lib/python3.10/dist-packages (from pyjwt[crypto]>=2.5.0->firebase-admin) (43.0.3)\n",
            "Requirement already satisfied: six>=1.5 in /usr/local/lib/python3.10/dist-packages (from python-dateutil>=2.8.2->pandas) (1.17.0)\n",
            "Requirement already satisfied: cffi>=1.12 in /usr/local/lib/python3.10/dist-packages (from cryptography>=3.4.0->pyjwt[crypto]>=2.5.0->firebase-admin) (1.17.1)\n",
            "Requirement already satisfied: cachetools<6.0,>=2.0.0 in /usr/local/lib/python3.10/dist-packages (from google-auth<3.0.dev0,>=2.14.1->google-api-core<3.0.0dev,>=1.22.1->google-api-core[grpc]<3.0.0dev,>=1.22.1; platform_python_implementation != \"PyPy\"->firebase-admin) (5.5.0)\n",
            "Requirement already satisfied: pyasn1-modules>=0.2.1 in /usr/local/lib/python3.10/dist-packages (from google-auth<3.0.dev0,>=2.14.1->google-api-core<3.0.0dev,>=1.22.1->google-api-core[grpc]<3.0.0dev,>=1.22.1; platform_python_implementation != \"PyPy\"->firebase-admin) (0.4.1)\n",
            "Requirement already satisfied: rsa<5,>=3.1.4 in /usr/local/lib/python3.10/dist-packages (from google-auth<3.0.dev0,>=2.14.1->google-api-core<3.0.0dev,>=1.22.1->google-api-core[grpc]<3.0.0dev,>=1.22.1; platform_python_implementation != \"PyPy\"->firebase-admin) (4.9)\n",
            "Requirement already satisfied: charset-normalizer<4,>=2 in /usr/local/lib/python3.10/dist-packages (from requests>=2.16.0->cachecontrol>=0.12.14->firebase-admin) (3.4.0)\n",
            "Requirement already satisfied: idna<4,>=2.5 in /usr/local/lib/python3.10/dist-packages (from requests>=2.16.0->cachecontrol>=0.12.14->firebase-admin) (3.10)\n",
            "Requirement already satisfied: urllib3<3,>=1.21.1 in /usr/local/lib/python3.10/dist-packages (from requests>=2.16.0->cachecontrol>=0.12.14->firebase-admin) (2.2.3)\n",
            "Requirement already satisfied: certifi>=2017.4.17 in /usr/local/lib/python3.10/dist-packages (from requests>=2.16.0->cachecontrol>=0.12.14->firebase-admin) (2024.12.14)\n",
            "Requirement already satisfied: pycparser in /usr/local/lib/python3.10/dist-packages (from cffi>=1.12->cryptography>=3.4.0->pyjwt[crypto]>=2.5.0->firebase-admin) (2.22)\n",
            "Requirement already satisfied: pyasn1<0.7.0,>=0.4.6 in /usr/local/lib/python3.10/dist-packages (from pyasn1-modules>=0.2.1->google-auth<3.0.dev0,>=2.14.1->google-api-core<3.0.0dev,>=1.22.1->google-api-core[grpc]<3.0.0dev,>=1.22.1; platform_python_implementation != \"PyPy\"->firebase-admin) (0.6.1)\n"
          ]
        }
      ]
    },
    {
      "cell_type": "code",
      "source": [
        "import firebase_admin\n",
        "from firebase_admin import credentials, db\n",
        "import pandas as pd\n",
        "\n",
        "# Upload your Firebase Admin SDK JSON and replace 'your-json-file.json'\n",
        "cred = credentials.Certificate(\"smart-home-monitoring-a8f1d-firebase-adminsdk-bxoyg-2f3572c861.json\")  # Replace with the file name\n",
        "firebase_admin.initialize_app(cred, {\n",
        "    'databaseURL': 'https://smart-home-monitoring-a8f1d-default-rtdb.firebaseio.com/'  # Replace with your Firebase Realtime Database URL\n",
        "})\n"
      ],
      "metadata": {
        "colab": {
          "base_uri": "https://localhost:8080/"
        },
        "id": "aLph9efR88UP",
        "outputId": "89d7e58a-8b60-4350-c137-9589ccaff62b"
      },
      "execution_count": null,
      "outputs": [
        {
          "output_type": "execute_result",
          "data": {
            "text/plain": [
              "<firebase_admin.App at 0x7dd41e143880>"
            ]
          },
          "metadata": {},
          "execution_count": 28
        }
      ]
    },
    {
      "cell_type": "code",
      "source": [
        "# Reference the database\n",
        "ref = db.reference(\"iot_data_stream\")\n",
        "\n",
        "# Fetch data\n",
        "data = ref.get()\n",
        "if data:\n",
        "    df = pd.DataFrame.from_dict(data, orient=\"index\")\n",
        "    print(\"Data fetched successfully!\")\n",
        "    print(df.head())  # Display first few rows\n",
        "else:\n",
        "    print(\"No data found in the database.\")\n"
      ],
      "metadata": {
        "colab": {
          "base_uri": "https://localhost:8080/"
        },
        "id": "yOmeyZo_9SQF",
        "outputId": "2706872e-f56d-4d57-84bc-0c89e5dd70e2"
      },
      "execution_count": null,
      "outputs": [
        {
          "output_type": "stream",
          "name": "stdout",
          "text": [
            "Data fetched successfully!\n",
            "                                    bright                 dist humid  \\\n",
            "-OEXtzna4EUgtkgsewW8  0.010496625508305168  0.44624312919605363  56.0   \n",
            "-OEXtzneWmBQkDCWYc3D  0.010598020115512714    0.447270632363357  56.0   \n",
            "-OEXtzni3fdy8ULh95Lv  0.010699313226616946   0.4461583352453538  56.0   \n",
            "-OEXtznmUsoJBr5mRc9A  0.010496625508305168   0.4440210288997736  56.0   \n",
            "-OEXtznq9yAE39QLdf3h  0.010496625508305168   0.4430783196831699  57.0   \n",
            "\n",
            "                                        id nodeid  pir  \\\n",
            "-OEXtzna4EUgtkgsewW8  0.023419315780531136    0.0  0.0   \n",
            "-OEXtzneWmBQkDCWYc3D  0.023420965376627533    0.0  0.0   \n",
            "-OEXtzni3fdy8ULh95Lv  0.023422614972723927    0.0  0.0   \n",
            "-OEXtznmUsoJBr5mRc9A  0.023424264568820324    0.0  0.0   \n",
            "-OEXtznq9yAE39QLdf3h   0.02342591416491672    0.0  0.0   \n",
            "\n",
            "                                     result_time soundlevel soundthres  temp  \n",
            "-OEXtzna4EUgtkgsewW8  2020-09-21 15:29:21.278647  0.0071507        0.0  30.9  \n",
            "-OEXtzneWmBQkDCWYc3D  2020-09-21 15:29:31.314993  0.0849377        1.0  30.9  \n",
            "-OEXtzni3fdy8ULh95Lv  2020-09-21 15:29:41.354561   0.124271        0.0  30.9  \n",
            "-OEXtznmUsoJBr5mRc9A  2020-09-21 15:29:51.280250   0.148558        0.0  30.9  \n",
            "-OEXtznq9yAE39QLdf3h  2020-09-21 15:30:01.317843   0.154929        0.0  30.9  \n"
          ]
        }
      ]
    },
    {
      "cell_type": "code",
      "source": [
        "print(df['temp'].head())\n",
        "\n"
      ],
      "metadata": {
        "colab": {
          "base_uri": "https://localhost:8080/"
        },
        "id": "xR_GwYF_9vEw",
        "outputId": "b02e9b0a-540b-4382-8e3f-a42aafa5fb1e"
      },
      "execution_count": null,
      "outputs": [
        {
          "output_type": "stream",
          "name": "stdout",
          "text": [
            "-OEXtzna4EUgtkgsewW8    30.9\n",
            "-OEXtzneWmBQkDCWYc3D    30.9\n",
            "-OEXtzni3fdy8ULh95Lv    30.9\n",
            "-OEXtznmUsoJBr5mRc9A    30.9\n",
            "-OEXtznq9yAE39QLdf3h    30.9\n",
            "Name: temp, dtype: object\n"
          ]
        }
      ]
    },
    {
      "cell_type": "code",
      "source": [
        "df['temp'] = df['temp'].str.strip()\n"
      ],
      "metadata": {
        "id": "wlqsvpV195L5"
      },
      "execution_count": null,
      "outputs": []
    },
    {
      "cell_type": "code",
      "source": [
        "df['temp'] = pd.to_numeric(df['temp'], errors='coerce')\n"
      ],
      "metadata": {
        "id": "xnqaCWuh99KL"
      },
      "execution_count": null,
      "outputs": []
    },
    {
      "cell_type": "code",
      "source": [
        "df = df.dropna(subset=['temp'])  # Remove rows with NaN in 'temp'\n"
      ],
      "metadata": {
        "id": "_0RQKaZE-ATA"
      },
      "execution_count": null,
      "outputs": []
    },
    {
      "cell_type": "code",
      "source": [
        "print(df['temp'].head())\n"
      ],
      "metadata": {
        "colab": {
          "base_uri": "https://localhost:8080/"
        },
        "id": "gnnSOHr4-FJX",
        "outputId": "e176cfd1-1daa-4bf4-a862-46d528aff170"
      },
      "execution_count": null,
      "outputs": [
        {
          "output_type": "stream",
          "name": "stdout",
          "text": [
            "-OEXtzna4EUgtkgsewW8    30.9\n",
            "-OEXtzneWmBQkDCWYc3D    30.9\n",
            "-OEXtzni3fdy8ULh95Lv    30.9\n",
            "-OEXtznmUsoJBr5mRc9A    30.9\n",
            "-OEXtznq9yAE39QLdf3h    30.9\n",
            "Name: temp, dtype: float64\n"
          ]
        }
      ]
    },
    {
      "cell_type": "code",
      "source": [
        "average_temp = df['temp'].mean()\n",
        "print(\"Average Temperature:\", average_temp)\n"
      ],
      "metadata": {
        "colab": {
          "base_uri": "https://localhost:8080/"
        },
        "id": "HheP5iDF-IvH",
        "outputId": "68afde04-27f8-44ff-eeab-ec02c4bb95e3"
      },
      "execution_count": null,
      "outputs": [
        {
          "output_type": "stream",
          "name": "stdout",
          "text": [
            "Average Temperature: 30.20020927662105\n"
          ]
        }
      ]
    },
    {
      "cell_type": "code",
      "source": [
        "# Convert timestamp and calculate averages\n",
        "if 'result_time' in df.columns:\n",
        "    df['result_time'] = pd.to_datetime(df['result_time'])\n",
        "\n",
        "# Example: Average temperature\n",
        "print(\"Average Temperature:\", df['temp'].mean())\n"
      ],
      "metadata": {
        "colab": {
          "base_uri": "https://localhost:8080/"
        },
        "id": "NAs8GxKu-RCD",
        "outputId": "180c249d-e2b6-4012-d3b8-301281a4ea79"
      },
      "execution_count": null,
      "outputs": [
        {
          "output_type": "stream",
          "name": "stdout",
          "text": [
            "Average Temperature: 30.20020927662105\n"
          ]
        }
      ]
    },
    {
      "cell_type": "code",
      "source": [
        "df.to_csv(\"processed_data.csv\", index=False)\n",
        "from google.colab import files\n",
        "files.download(\"processed_data.csv\")\n"
      ],
      "metadata": {
        "colab": {
          "base_uri": "https://localhost:8080/",
          "height": 17
        },
        "id": "TGzK1ODX-lmZ",
        "outputId": "0e62bad8-5f4a-4b3d-ed15-bc83548db216"
      },
      "execution_count": null,
      "outputs": [
        {
          "output_type": "display_data",
          "data": {
            "text/plain": [
              "<IPython.core.display.Javascript object>"
            ],
            "application/javascript": [
              "\n",
              "    async function download(id, filename, size) {\n",
              "      if (!google.colab.kernel.accessAllowed) {\n",
              "        return;\n",
              "      }\n",
              "      const div = document.createElement('div');\n",
              "      const label = document.createElement('label');\n",
              "      label.textContent = `Downloading \"${filename}\": `;\n",
              "      div.appendChild(label);\n",
              "      const progress = document.createElement('progress');\n",
              "      progress.max = size;\n",
              "      div.appendChild(progress);\n",
              "      document.body.appendChild(div);\n",
              "\n",
              "      const buffers = [];\n",
              "      let downloaded = 0;\n",
              "\n",
              "      const channel = await google.colab.kernel.comms.open(id);\n",
              "      // Send a message to notify the kernel that we're ready.\n",
              "      channel.send({})\n",
              "\n",
              "      for await (const message of channel.messages) {\n",
              "        // Send a message to notify the kernel that we're ready.\n",
              "        channel.send({})\n",
              "        if (message.buffers) {\n",
              "          for (const buffer of message.buffers) {\n",
              "            buffers.push(buffer);\n",
              "            downloaded += buffer.byteLength;\n",
              "            progress.value = downloaded;\n",
              "          }\n",
              "        }\n",
              "      }\n",
              "      const blob = new Blob(buffers, {type: 'application/binary'});\n",
              "      const a = document.createElement('a');\n",
              "      a.href = window.URL.createObjectURL(blob);\n",
              "      a.download = filename;\n",
              "      div.appendChild(a);\n",
              "      a.click();\n",
              "      div.remove();\n",
              "    }\n",
              "  "
            ]
          },
          "metadata": {}
        },
        {
          "output_type": "display_data",
          "data": {
            "text/plain": [
              "<IPython.core.display.Javascript object>"
            ],
            "application/javascript": [
              "download(\"download_2ac7fba4-1817-46f9-b0b5-36020d20f837\", \"processed_data.csv\", 20684535)"
            ]
          },
          "metadata": {}
        }
      ]
    }
  ],
  "metadata": {
    "colab": {
      "provenance": []
    },
    "kernelspec": {
      "display_name": "Python 3",
      "name": "python3"
    },
    "language_info": {
      "name": "python"
    }
  },
  "nbformat": 4,
  "nbformat_minor": 0
}